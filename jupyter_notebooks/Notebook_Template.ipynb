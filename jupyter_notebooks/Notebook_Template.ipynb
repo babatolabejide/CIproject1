{
  "cells": [
    {
      "cell_type": "markdown",
      "metadata": {
        "id": "0aStgWSO0E0E"
      },
      "source": [
        "# **Retail Sales Data Analysis**"
      ]
    },
    {
      "cell_type": "markdown",
      "metadata": {
        "id": "1eLEkw5O0ECa"
      },
      "source": [
        "## Objectives\n",
        "\n",
        "**Fetch Data from Kaggle and Save as Raw Data:**\n",
        "\n",
        "Purpose: Download the retail sales dataset from Kaggle and store it in a raw format for initial analysis.\n",
        "\n",
        "**Initial Data Exploration and Cleaning:**\n",
        "\n",
        "Purpose: Conduct exploratory data analysis (EDA) to understand the structure and quality of the data, and perform initial cleaning tasks such as handling missing values and correcting inconsistencies.\n",
        "\n",
        "**Data Transformation and Feature Engineering:**\n",
        "\n",
        "Purpose: Transform the raw data into a suitable format for analysis, create new features (e.g., sales differences between holiday and non-holiday weeks), and standardize data formats.\n",
        "\n",
        "**Descriptive Statistics and Visualization:**\n",
        "\n",
        "Purpose: Generate descriptive statistics and create visualizations to summarize the data and identify initial trends and patterns.\n",
        "\n",
        "**Hypothesis Testing and Statistical Analysis:**\n",
        "\n",
        "Purpose: Formulate and validate hypotheses using statistical tests, such as t-tests and ANOVA, to uncover insights from the data.\n",
        "\n",
        "**Predictive Modeling and Forecasting:**\n",
        "\n",
        "Purpose: Build predictive models to forecast future sales based on historical data and identified trends.\n",
        "\n",
        "**Impact Analysis of Promotional Markdowns:**\n",
        "\n",
        "Purpose: Analyze the impact of promotional markdowns on sales during holiday and non-holiday periods, and visualize the results.\n",
        "\n",
        "**Comparative Performance Analysis:**\n",
        "\n",
        "Purpose: Compare sales performance across different stores and regions, taking into account store types and sizes.\n",
        "\n",
        "**Project Documentation and Sharing:**\n",
        "\n",
        "Purpose: Document the project process, findings, and code in a structured format, and share the results via GitHub or other platforms.\n",
        "\n",
        "## Inputs\n",
        "\n",
        "**Retail Sales Dataset:**\n",
        "\n",
        "* Stores Data: Information about each store, including store type and size.\n",
        "\n",
        "Filename: Stores.xlsx\n",
        "\n",
        "Columns: Store, Type, Size\n",
        "\n",
        "* Features Data: Additional information about each store, such as average temperature, fuel price, CPI, and unemployment rate.\n",
        "\n",
        "Filename: Features.xlsx\n",
        "\n",
        "Columns: Store, Date, Temperature, Fuel_Price, CPI, Unemployment, IsHoliday\n",
        "\n",
        "* Sales Data: Weekly sales data for each department within each store.\n",
        "\n",
        "Filename: Sales.xlsx\n",
        "\n",
        "Columns: Store, Dept, Date, Weekly_Sales\n",
        "\n",
        "**Python Libraries:**\n",
        "\n",
        "* pandas: For data manipulation and analysis.\n",
        "\n",
        "* numpy: For numerical operations.\n",
        "\n",
        "* matplotlib: For creating static visualizations.\n",
        "\n",
        "* seaborn: For creating enhanced visualizations.\n",
        "\n",
        "* statsmodels: For statistical analysis and regression modeling.\n",
        "\n",
        "* scipy: For additional statistical tests.\n",
        "\n",
        "## Outputs\n",
        "\n",
        "Visualizations:\n",
        "\n",
        "Descriptive Statistics and Data Distributions:\n",
        "\n",
        "Files/Code: Python code to generate histograms, box plots, and summary tables.\n",
        "\n",
        "Artefacts: PNG or JPEG images of plots and charts visualizing data distributions.\n",
        "\n",
        "Sales Trends and Patterns:\n",
        "\n",
        "Files/Code: Python code for line graphs and time series plots.\n",
        "\n",
        "Artefacts: PNG or JPEG images of sales trends over time.\n",
        "\n",
        "Statistical Analysis Reports:\n",
        "\n",
        "Hypothesis Testing and Correlation Analysis:\n",
        "\n",
        "Files/Code: Python code for t-tests, ANOVA, and correlation matrices.\n",
        "\n",
        "Artefacts: Text files or Jupyter Notebook cells documenting the results of statistical tests.\n",
        "\n",
        "Predictive Models:\n",
        "\n",
        "Regression Models and Forecasting:\n",
        "\n",
        "Files/Code: Python code for regression analysis and forecasting models.\n",
        "\n",
        "Artefacts: Model outputs and summary statistics saved as text files or displayed in the notebook.\n",
        "\n",
        "Impact Analysis Visualizations:\n",
        "\n",
        "Markdowns and Promotions Impact:\n",
        "\n",
        "Files/Code: Python code for bar charts, heatmaps, and box plots comparing sales during promotional and non-promotional periods.\n",
        "\n",
        "Artefacts: PNG or JPEG images of impact analysis visualizations.\n",
        "\n",
        "Comparative Performance Visualizations:\n",
        "\n",
        "Store and Region Performance:\n",
        "\n",
        "Files/Code: Python code for bar charts, scatter plots, and heatmaps comparing sales across different stores and regions.\n",
        "\n",
        "Artefacts: PNG or JPEG images of comparative performance visualizations.\n",
        "\n",
        "Comprehensive Report:\n",
        "\n",
        "Final Analysis Report:\n",
        "\n",
        "Files/Code: Jupyter Notebook with markdown cells documenting the entire analysis process, findings, and visualizations.\n",
        "\n",
        "Artefacts: Exported PDF or HTML report summarizing key insights and recommendations.\n",
        "\n",
        "Project Documentation:\n",
        "\n",
        "README File:\n",
        "\n",
        "Files/Code: A detailed README file explaining the project objectives, methodology, and steps taken.\n",
        "\n",
        "Artefacts: README.md file in your GitHub repository.\n",
        "## Additional Comments\n",
        "\n",
        "* If you have any additional comments that don't fit in the previous bullets, please state them here. \n",
        "\n"
      ]
    },
    {
      "cell_type": "markdown",
      "metadata": {
        "id": "9uWZXH9LwoQg"
      },
      "source": [
        "---"
      ]
    },
    {
      "cell_type": "markdown",
      "metadata": {
        "id": "cqP-UeN-z3i2"
      },
      "source": [
        "# Change working directory"
      ]
    },
    {
      "cell_type": "markdown",
      "metadata": {},
      "source": [
        "* We are assuming you will store the notebooks in a subfolder, therefore when running the notebook in the editor, you will need to change the working directory"
      ]
    },
    {
      "cell_type": "markdown",
      "metadata": {
        "id": "aOGIGS-uz3i2"
      },
      "source": [
        "We need to change the working directory from its current folder to its parent folder\n",
        "* We access the current directory with os.getcwd()"
      ]
    },
    {
      "cell_type": "code",
      "execution_count": 19,
      "metadata": {
        "id": "wZfF_j-Bz3i4",
        "outputId": "66943449-1436-4c3d-85c7-b85f9f78349b"
      },
      "outputs": [
        {
          "data": {
            "text/plain": [
              "'/workspace/CIproject1'"
            ]
          },
          "execution_count": 19,
          "metadata": {},
          "output_type": "execute_result"
        }
      ],
      "source": [
        "import os\n",
        "current_dir = os.getcwd()\n",
        "current_dir"
      ]
    },
    {
      "cell_type": "markdown",
      "metadata": {
        "id": "9MWW8E7lz3i7"
      },
      "source": [
        "We want to make the parent of the current directory the new current directory\n",
        "* os.path.dirname() gets the parent directory\n",
        "* os.chir() defines the new current directory"
      ]
    },
    {
      "cell_type": "code",
      "execution_count": 20,
      "metadata": {
        "id": "TwHsQRWjz3i9",
        "outputId": "86849db3-cd2f-4cc5-ebb8-2d0caafa1a2c"
      },
      "outputs": [
        {
          "name": "stdout",
          "output_type": "stream",
          "text": [
            "You set a new current directory\n"
          ]
        }
      ],
      "source": [
        "os.chdir(os.path.dirname(current_dir))\n",
        "print(\"You set a new current directory\")"
      ]
    },
    {
      "cell_type": "markdown",
      "metadata": {
        "id": "M_xPk_Ijz3i-"
      },
      "source": [
        "Confirm the new current directory"
      ]
    },
    {
      "cell_type": "code",
      "execution_count": 21,
      "metadata": {
        "id": "vz3S-_kjz3jA",
        "outputId": "00b79ae4-75d0-4a96-d193-ac9ef9847ea2"
      },
      "outputs": [
        {
          "data": {
            "text/plain": [
              "'/workspace'"
            ]
          },
          "execution_count": 21,
          "metadata": {},
          "output_type": "execute_result"
        }
      ],
      "source": [
        "current_dir = os.getcwd()\n",
        "current_dir"
      ]
    },
    {
      "cell_type": "code",
      "execution_count": 25,
      "metadata": {},
      "outputs": [
        {
          "ename": "ModuleNotFoundError",
          "evalue": "No module named 'pandas'",
          "output_type": "error",
          "traceback": [
            "\u001b[0;31m---------------------------------------------------------------------------\u001b[0m",
            "\u001b[0;31mModuleNotFoundError\u001b[0m                       Traceback (most recent call last)",
            "Cell \u001b[0;32mIn[25], line 1\u001b[0m\n\u001b[0;32m----> 1\u001b[0m \u001b[38;5;28;01mimport\u001b[39;00m\u001b[38;5;250m \u001b[39m\u001b[38;5;21;01mpandas\u001b[39;00m\u001b[38;5;250m \u001b[39m\u001b[38;5;28;01mas\u001b[39;00m\u001b[38;5;250m \u001b[39m\u001b[38;5;21;01mpd\u001b[39;00m\n\u001b[1;32m      2\u001b[0m \u001b[38;5;28;01mimport\u001b[39;00m\u001b[38;5;250m \u001b[39m\u001b[38;5;21;01mnumpy\u001b[39;00m\u001b[38;5;250m \u001b[39m\u001b[38;5;28;01mas\u001b[39;00m\u001b[38;5;250m \u001b[39m\u001b[38;5;21;01mnp\u001b[39;00m\n\u001b[1;32m      3\u001b[0m \u001b[38;5;28;01mimport\u001b[39;00m\u001b[38;5;250m \u001b[39m\u001b[38;5;21;01mmatplotlib\u001b[39;00m\u001b[38;5;21;01m.\u001b[39;00m\u001b[38;5;21;01mpyplot\u001b[39;00m\u001b[38;5;250m \u001b[39m\u001b[38;5;28;01mas\u001b[39;00m\u001b[38;5;250m \u001b[39m\u001b[38;5;21;01mplt\u001b[39;00m\n",
            "\u001b[0;31mModuleNotFoundError\u001b[0m: No module named 'pandas'"
          ]
        }
      ],
      "source": [
        "import pandas as pd\n",
        "import numpy as np\n",
        "import matplotlib.pyplot as plt\n",
        "import seaborn as sns"
      ]
    },
    {
      "cell_type": "markdown",
      "metadata": {
        "id": "-mavJ8DibrcQ"
      },
      "source": [
        "# Section 1"
      ]
    },
    {
      "cell_type": "markdown",
      "metadata": {},
      "source": [
        "Section 1 content"
      ]
    },
    {
      "cell_type": "code",
      "execution_count": 26,
      "metadata": {},
      "outputs": [
        {
          "ename": "ModuleNotFoundError",
          "evalue": "No module named 'pandas'",
          "output_type": "error",
          "traceback": [
            "\u001b[0;31m---------------------------------------------------------------------------\u001b[0m",
            "\u001b[0;31mModuleNotFoundError\u001b[0m                       Traceback (most recent call last)",
            "Cell \u001b[0;32mIn[26], line 1\u001b[0m\n\u001b[0;32m----> 1\u001b[0m \u001b[38;5;28;01mimport\u001b[39;00m\u001b[38;5;250m \u001b[39m\u001b[38;5;21;01mpandas\u001b[39;00m\u001b[38;5;250m \u001b[39m\u001b[38;5;28;01mas\u001b[39;00m\u001b[38;5;250m \u001b[39m\u001b[38;5;21;01mpd\u001b[39;00m\n\u001b[1;32m      2\u001b[0m \u001b[38;5;28;01mimport\u001b[39;00m\u001b[38;5;250m \u001b[39m\u001b[38;5;21;01mnumpy\u001b[39;00m\u001b[38;5;250m \u001b[39m\u001b[38;5;28;01mas\u001b[39;00m\u001b[38;5;250m \u001b[39m\u001b[38;5;21;01mnp\u001b[39;00m\n\u001b[1;32m      3\u001b[0m \u001b[38;5;28;01mimport\u001b[39;00m\u001b[38;5;250m \u001b[39m\u001b[38;5;21;01mmatplotlib\u001b[39;00m\u001b[38;5;21;01m.\u001b[39;00m\u001b[38;5;21;01mpyplot\u001b[39;00m\u001b[38;5;250m \u001b[39m\u001b[38;5;28;01mas\u001b[39;00m\u001b[38;5;250m \u001b[39m\u001b[38;5;21;01mplt\u001b[39;00m\n",
            "\u001b[0;31mModuleNotFoundError\u001b[0m: No module named 'pandas'"
          ]
        }
      ],
      "source": [
        "import pandas as pd\n",
        "import numpy as np\n",
        "import matplotlib.pyplot as plt\n",
        "import seaborn as sns\n"
      ]
    },
    {
      "cell_type": "markdown",
      "metadata": {
        "id": "ZY3l0-AxO93d"
      },
      "source": [
        "---"
      ]
    },
    {
      "cell_type": "markdown",
      "metadata": {
        "id": "uFQo3ycuO-v6"
      },
      "source": [
        "# Section 2"
      ]
    },
    {
      "cell_type": "markdown",
      "metadata": {},
      "source": [
        "Section 2 content"
      ]
    },
    {
      "cell_type": "code",
      "execution_count": null,
      "metadata": {},
      "outputs": [
        {
          "ename": "NameError",
          "evalue": "name 'pd' is not defined",
          "output_type": "error",
          "traceback": [
            "\u001b[0;31m---------------------------------------------------------------------------\u001b[0m",
            "\u001b[0;31mNameError\u001b[0m                                 Traceback (most recent call last)",
            "Cell \u001b[0;32mIn[14], line 1\u001b[0m\n\u001b[0;32m----> 1\u001b[0m stores \u001b[38;5;241m=\u001b[39m \u001b[43mpd\u001b[49m\u001b[38;5;241m.\u001b[39mread_excel(\u001b[38;5;124m'\u001b[39m\u001b[38;5;124mStores.csv\u001b[39m\u001b[38;5;124m'\u001b[39m)\n\u001b[1;32m      2\u001b[0m features \u001b[38;5;241m=\u001b[39m pd\u001b[38;5;241m.\u001b[39mread_excel(\u001b[38;5;124m'\u001b[39m\u001b[38;5;124mFeatures.csv\u001b[39m\u001b[38;5;124m'\u001b[39m)\n\u001b[1;32m      3\u001b[0m sales \u001b[38;5;241m=\u001b[39m pd\u001b[38;5;241m.\u001b[39mread_excel(\u001b[38;5;124m'\u001b[39m\u001b[38;5;124mSales.csv\u001b[39m\u001b[38;5;124m'\u001b[39m)\n",
            "\u001b[0;31mNameError\u001b[0m: name 'pd' is not defined"
          ]
        }
      ],
      "source": [
        "stores = pd.read_excel('Stores.csv')\n",
        "features = pd.read_excel('Features data set.csv')\n",
        "sales = pd.read_excel('Sales.csv')\n"
      ]
    },
    {
      "cell_type": "code",
      "execution_count": 15,
      "metadata": {},
      "outputs": [
        {
          "ename": "NameError",
          "evalue": "name 'stores' is not defined",
          "output_type": "error",
          "traceback": [
            "\u001b[0;31m---------------------------------------------------------------------------\u001b[0m",
            "\u001b[0;31mNameError\u001b[0m                                 Traceback (most recent call last)",
            "Cell \u001b[0;32mIn[15], line 1\u001b[0m\n\u001b[0;32m----> 1\u001b[0m \u001b[38;5;28mprint\u001b[39m(\u001b[43mstores\u001b[49m\u001b[38;5;241m.\u001b[39mhead())\n\u001b[1;32m      2\u001b[0m \u001b[38;5;28mprint\u001b[39m(features\u001b[38;5;241m.\u001b[39mhead())\n\u001b[1;32m      3\u001b[0m \u001b[38;5;28mprint\u001b[39m(sales\u001b[38;5;241m.\u001b[39mhead())\n",
            "\u001b[0;31mNameError\u001b[0m: name 'stores' is not defined"
          ]
        }
      ],
      "source": [
        "print(stores.head())\n",
        "print(features.head())\n",
        "print(sales.head())\n"
      ]
    },
    {
      "cell_type": "markdown",
      "metadata": {},
      "source": [
        "---"
      ]
    },
    {
      "cell_type": "markdown",
      "metadata": {},
      "source": [
        "NOTE"
      ]
    },
    {
      "cell_type": "markdown",
      "metadata": {},
      "source": [
        "* You may add as many sections as you want, as long as it supports your project workflow.\n",
        "* All notebook's cells should be run top-down (you can't create a dynamic wherein a given point you need to go back to a previous cell to execute some task, like go back to a previous cell and refresh a variable content)"
      ]
    },
    {
      "cell_type": "markdown",
      "metadata": {},
      "source": [
        "---"
      ]
    },
    {
      "cell_type": "markdown",
      "metadata": {
        "id": "ltNetd085qHf"
      },
      "source": [
        "# Push files to Repo"
      ]
    },
    {
      "cell_type": "markdown",
      "metadata": {},
      "source": [
        "* In cases where you don't need to push files to Repo, you may replace this section with \"Conclusions and Next Steps\" and state your conclusions and next steps."
      ]
    },
    {
      "cell_type": "code",
      "execution_count": null,
      "metadata": {
        "id": "aKlnIozA4eQO",
        "outputId": "fd09bc1f-adb1-4511-f6ce-492a6af570c0"
      },
      "outputs": [],
      "source": [
        "import os\n",
        "try:\n",
        "  # create your folder here\n",
        "  # os.makedirs(name='')\n",
        "except Exception as e:\n",
        "  print(e)\n"
      ]
    }
  ],
  "metadata": {
    "accelerator": "GPU",
    "colab": {
      "name": "Data Practitioner Jupyter Notebook.ipynb",
      "provenance": [],
      "toc_visible": true
    },
    "kernelspec": {
      "display_name": "Python 3",
      "language": "python",
      "name": "python3"
    },
    "language_info": {
      "codemirror_mode": {
        "name": "ipython",
        "version": 3
      },
      "file_extension": ".py",
      "mimetype": "text/x-python",
      "name": "python",
      "nbconvert_exporter": "python",
      "pygments_lexer": "ipython3",
      "version": "3.9.20"
    },
    "orig_nbformat": 2
  },
  "nbformat": 4,
  "nbformat_minor": 2
}
